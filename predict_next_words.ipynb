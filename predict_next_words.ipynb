{
  "nbformat": 4,
  "nbformat_minor": 0,
  "metadata": {
    "colab": {
      "provenance": [],
      "gpuType": "T4"
    },
    "kernelspec": {
      "name": "python3",
      "display_name": "Python 3"
    },
    "language_info": {
      "name": "python"
    },
    "accelerator": "GPU"
  },
  "cells": [
    {
      "cell_type": "code",
      "execution_count": null,
      "metadata": {
        "id": "HgM5WhLWo5aO"
      },
      "outputs": [],
      "source": []
    },
    {
      "cell_type": "code",
      "source": [
        "from google.colab import drive\n",
        "drive.mount('/content/drive')"
      ],
      "metadata": {
        "id": "BoB4eDElkOeL",
        "colab": {
          "base_uri": "https://localhost:8080/"
        },
        "outputId": "0dfcd03a-ac13-42cd-9202-411a2848c3c1"
      },
      "execution_count": 1,
      "outputs": [
        {
          "output_type": "stream",
          "name": "stdout",
          "text": [
            "Mounted at /content/drive\n"
          ]
        }
      ]
    },
    {
      "cell_type": "code",
      "source": [
        "import numpy as np\n",
        "import pandas as pd"
      ],
      "metadata": {
        "id": "MfNvLiWFkQmu"
      },
      "execution_count": 2,
      "outputs": []
    },
    {
      "cell_type": "code",
      "source": [
        "from fastai.text.data import *\n",
        "from fastai.text.all import *\n",
        "\n"
      ],
      "metadata": {
        "id": "l5CVujjuchVq"
      },
      "execution_count": 3,
      "outputs": []
    },
    {
      "cell_type": "code",
      "source": [
        "# path = untar_data(URLs.IMDB_SAMPLE)\n",
        "# df = pd.read_csv(path/'texts.csv')\n",
        "# dls = TextDataLoaders.from_df(df, path=path, text_col='text', is_lm=True, valid_col='is_valid')\n",
        "# learn = language_model_learner(dls, AWD_LSTM)"
      ],
      "metadata": {
        "id": "ZkR1ytOB7aJm"
      },
      "execution_count": 4,
      "outputs": []
    },
    {
      "cell_type": "code",
      "source": [],
      "metadata": {
        "id": "dP7D3que7rzS"
      },
      "execution_count": 4,
      "outputs": []
    },
    {
      "cell_type": "code",
      "source": [
        "# learn.predict('This movie is about', n_words=20)"
      ],
      "metadata": {
        "id": "8DxEXvmk7jdv"
      },
      "execution_count": 5,
      "outputs": []
    },
    {
      "cell_type": "code",
      "source": [
        "df = pd.read_csv('/content/drive/MyDrive/news_data.csv')\n"
      ],
      "metadata": {
        "id": "IPuHj3dZbsmI"
      },
      "execution_count": 6,
      "outputs": []
    },
    {
      "cell_type": "code",
      "source": [
        "df.shape"
      ],
      "metadata": {
        "colab": {
          "base_uri": "https://localhost:8080/"
        },
        "id": "dKVpAHOg1QfU",
        "outputId": "e6c20c51-3ccc-4087-828c-e465503bca6c"
      },
      "execution_count": 7,
      "outputs": [
        {
          "output_type": "execute_result",
          "data": {
            "text/plain": [
              "(56651, 5)"
            ]
          },
          "metadata": {},
          "execution_count": 7
        }
      ]
    },
    {
      "cell_type": "code",
      "source": [
        "df.head()"
      ],
      "metadata": {
        "colab": {
          "base_uri": "https://localhost:8080/",
          "height": 813
        },
        "id": "CLRb0nJE0TPy",
        "outputId": "7262dfbb-9c2b-4a4e-ecf8-a30503133a27"
      },
      "execution_count": 8,
      "outputs": [
        {
          "output_type": "execute_result",
          "data": {
            "text/plain": [
              "   Unnamed: 0  \\\n",
              "0          14   \n",
              "1          16   \n",
              "2          19   \n",
              "3          33   \n",
              "4          35   \n",
              "\n",
              "                                                                                  Headline  \\\n",
              "0  Zareen Khan's lawyer issues statement on arrest warrant, says 'she was victim of fraud'   \n",
              "1               What is Women's Reservation Bill, demanded by parties at Parliament today?   \n",
              "2                 No Chinese ambassador in India for nearly a year, longest gap since 1976   \n",
              "3      IIT Kanpur Director Abhay Karandikar appointed as Centre's Science & Tech Secretary   \n",
              "4                        Time stops for you: Mahindra as he praises PM Modi's pace of work   \n",
              "\n",
              "                                                                                                                                                                                                                                                                                                                                                                          Content  \\\n",
              "0           After a Kolkata court issued an arrest warrant against actress Zareen Khan in connection to a 2018 cheating case, her lawyer issued a press statement, saying, \"She has been a victim of fraud.\" The note added that the event organisers (who complained against Zareen) deceived the actress and pressured her to attend the event in Kolkata \"totally unescorted\".   \n",
              "1  At an all-party meeting convened by the government at the Parliament special session on Monday, several political parties demanded a discussion and passing of the Women's Reservation Bill. The bill seeks to reserve 33% of seats in the Lok Sabha and state legislative assemblies for women. One-third of total seats reserved for SCs and STs will be reserved for women.   \n",
              "2             By October, the Chinese embassy in India will have been without an envoy for a year. It's the longest such gap in ambassadorial postings since 1976, Hindustan Times reported. The Chinese side is yet to request a formal agreement for posting a new ambassador in the embassy. The last Chinese ambassador, Sun Weidong, completed his term on October 26, 2022.   \n",
              "3                   IIT Kanpur's Director Abhay Karandikar has been appointed Secretary of the Department of Science and Technology (DST), the Centre said on Sunday. The 58-year-old has been one of the brains behind the introduction of 5G technology in India. The electrical engineer's team worked on creating \"frugal 5G\" for connecting rural India with the 5G network.   \n",
              "4       Mahindra Group Chairman Anand Mahindra took to X to wish Prime Minister Narendra Modi on his birthday on Sunday. The billionaire posted, \"The relentless pace of your work is such that time stops for you. So, I'm not sure whether birthdays, which symbolise the passing of time, mean anything to you.\" \"Nevertheless...I wish you a very happy birthday,\" he added.    \n",
              "\n",
              "  News Categories        Date  \n",
              "0   entertainment  19-09-2023  \n",
              "1        politics  19-09-2023  \n",
              "2           world  19-09-2023  \n",
              "3      technology  19-09-2023  \n",
              "4        business  19-09-2023  "
            ],
            "text/html": [
              "\n",
              "  <div id=\"df-919a76de-dbb9-4bf7-b1a9-87412fe316f0\" class=\"colab-df-container\">\n",
              "    <div>\n",
              "<style scoped>\n",
              "    .dataframe tbody tr th:only-of-type {\n",
              "        vertical-align: middle;\n",
              "    }\n",
              "\n",
              "    .dataframe tbody tr th {\n",
              "        vertical-align: top;\n",
              "    }\n",
              "\n",
              "    .dataframe thead th {\n",
              "        text-align: right;\n",
              "    }\n",
              "</style>\n",
              "<table border=\"1\" class=\"dataframe\">\n",
              "  <thead>\n",
              "    <tr style=\"text-align: right;\">\n",
              "      <th></th>\n",
              "      <th>Unnamed: 0</th>\n",
              "      <th>Headline</th>\n",
              "      <th>Content</th>\n",
              "      <th>News Categories</th>\n",
              "      <th>Date</th>\n",
              "    </tr>\n",
              "  </thead>\n",
              "  <tbody>\n",
              "    <tr>\n",
              "      <th>0</th>\n",
              "      <td>14</td>\n",
              "      <td>Zareen Khan's lawyer issues statement on arrest warrant, says 'she was victim of fraud'</td>\n",
              "      <td>After a Kolkata court issued an arrest warrant against actress Zareen Khan in connection to a 2018 cheating case, her lawyer issued a press statement, saying, \"She has been a victim of fraud.\" The note added that the event organisers (who complained against Zareen) deceived the actress and pressured her to attend the event in Kolkata \"totally unescorted\".</td>\n",
              "      <td>entertainment</td>\n",
              "      <td>19-09-2023</td>\n",
              "    </tr>\n",
              "    <tr>\n",
              "      <th>1</th>\n",
              "      <td>16</td>\n",
              "      <td>What is Women's Reservation Bill, demanded by parties at Parliament today?</td>\n",
              "      <td>At an all-party meeting convened by the government at the Parliament special session on Monday, several political parties demanded a discussion and passing of the Women's Reservation Bill. The bill seeks to reserve 33% of seats in the Lok Sabha and state legislative assemblies for women. One-third of total seats reserved for SCs and STs will be reserved for women.</td>\n",
              "      <td>politics</td>\n",
              "      <td>19-09-2023</td>\n",
              "    </tr>\n",
              "    <tr>\n",
              "      <th>2</th>\n",
              "      <td>19</td>\n",
              "      <td>No Chinese ambassador in India for nearly a year, longest gap since 1976</td>\n",
              "      <td>By October, the Chinese embassy in India will have been without an envoy for a year. It's the longest such gap in ambassadorial postings since 1976, Hindustan Times reported. The Chinese side is yet to request a formal agreement for posting a new ambassador in the embassy. The last Chinese ambassador, Sun Weidong, completed his term on October 26, 2022.</td>\n",
              "      <td>world</td>\n",
              "      <td>19-09-2023</td>\n",
              "    </tr>\n",
              "    <tr>\n",
              "      <th>3</th>\n",
              "      <td>33</td>\n",
              "      <td>IIT Kanpur Director Abhay Karandikar appointed as Centre's Science &amp; Tech Secretary</td>\n",
              "      <td>IIT Kanpur's Director Abhay Karandikar has been appointed Secretary of the Department of Science and Technology (DST), the Centre said on Sunday. The 58-year-old has been one of the brains behind the introduction of 5G technology in India. The electrical engineer's team worked on creating \"frugal 5G\" for connecting rural India with the 5G network.</td>\n",
              "      <td>technology</td>\n",
              "      <td>19-09-2023</td>\n",
              "    </tr>\n",
              "    <tr>\n",
              "      <th>4</th>\n",
              "      <td>35</td>\n",
              "      <td>Time stops for you: Mahindra as he praises PM Modi's pace of work</td>\n",
              "      <td>Mahindra Group Chairman Anand Mahindra took to X to wish Prime Minister Narendra Modi on his birthday on Sunday. The billionaire posted, \"The relentless pace of your work is such that time stops for you. So, I'm not sure whether birthdays, which symbolise the passing of time, mean anything to you.\" \"Nevertheless...I wish you a very happy birthday,\" he added.</td>\n",
              "      <td>business</td>\n",
              "      <td>19-09-2023</td>\n",
              "    </tr>\n",
              "  </tbody>\n",
              "</table>\n",
              "</div>\n",
              "    <div class=\"colab-df-buttons\">\n",
              "\n",
              "  <div class=\"colab-df-container\">\n",
              "    <button class=\"colab-df-convert\" onclick=\"convertToInteractive('df-919a76de-dbb9-4bf7-b1a9-87412fe316f0')\"\n",
              "            title=\"Convert this dataframe to an interactive table.\"\n",
              "            style=\"display:none;\">\n",
              "\n",
              "  <svg xmlns=\"http://www.w3.org/2000/svg\" height=\"24px\" viewBox=\"0 -960 960 960\">\n",
              "    <path d=\"M120-120v-720h720v720H120Zm60-500h600v-160H180v160Zm220 220h160v-160H400v160Zm0 220h160v-160H400v160ZM180-400h160v-160H180v160Zm440 0h160v-160H620v160ZM180-180h160v-160H180v160Zm440 0h160v-160H620v160Z\"/>\n",
              "  </svg>\n",
              "    </button>\n",
              "\n",
              "  <style>\n",
              "    .colab-df-container {\n",
              "      display:flex;\n",
              "      gap: 12px;\n",
              "    }\n",
              "\n",
              "    .colab-df-convert {\n",
              "      background-color: #E8F0FE;\n",
              "      border: none;\n",
              "      border-radius: 50%;\n",
              "      cursor: pointer;\n",
              "      display: none;\n",
              "      fill: #1967D2;\n",
              "      height: 32px;\n",
              "      padding: 0 0 0 0;\n",
              "      width: 32px;\n",
              "    }\n",
              "\n",
              "    .colab-df-convert:hover {\n",
              "      background-color: #E2EBFA;\n",
              "      box-shadow: 0px 1px 2px rgba(60, 64, 67, 0.3), 0px 1px 3px 1px rgba(60, 64, 67, 0.15);\n",
              "      fill: #174EA6;\n",
              "    }\n",
              "\n",
              "    .colab-df-buttons div {\n",
              "      margin-bottom: 4px;\n",
              "    }\n",
              "\n",
              "    [theme=dark] .colab-df-convert {\n",
              "      background-color: #3B4455;\n",
              "      fill: #D2E3FC;\n",
              "    }\n",
              "\n",
              "    [theme=dark] .colab-df-convert:hover {\n",
              "      background-color: #434B5C;\n",
              "      box-shadow: 0px 1px 3px 1px rgba(0, 0, 0, 0.15);\n",
              "      filter: drop-shadow(0px 1px 2px rgba(0, 0, 0, 0.3));\n",
              "      fill: #FFFFFF;\n",
              "    }\n",
              "  </style>\n",
              "\n",
              "    <script>\n",
              "      const buttonEl =\n",
              "        document.querySelector('#df-919a76de-dbb9-4bf7-b1a9-87412fe316f0 button.colab-df-convert');\n",
              "      buttonEl.style.display =\n",
              "        google.colab.kernel.accessAllowed ? 'block' : 'none';\n",
              "\n",
              "      async function convertToInteractive(key) {\n",
              "        const element = document.querySelector('#df-919a76de-dbb9-4bf7-b1a9-87412fe316f0');\n",
              "        const dataTable =\n",
              "          await google.colab.kernel.invokeFunction('convertToInteractive',\n",
              "                                                    [key], {});\n",
              "        if (!dataTable) return;\n",
              "\n",
              "        const docLinkHtml = 'Like what you see? Visit the ' +\n",
              "          '<a target=\"_blank\" href=https://colab.research.google.com/notebooks/data_table.ipynb>data table notebook</a>'\n",
              "          + ' to learn more about interactive tables.';\n",
              "        element.innerHTML = '';\n",
              "        dataTable['output_type'] = 'display_data';\n",
              "        await google.colab.output.renderOutput(dataTable, element);\n",
              "        const docLink = document.createElement('div');\n",
              "        docLink.innerHTML = docLinkHtml;\n",
              "        element.appendChild(docLink);\n",
              "      }\n",
              "    </script>\n",
              "  </div>\n",
              "\n",
              "\n",
              "<div id=\"df-67e21531-f3b4-41b9-b8b3-73b1fd3b2a61\">\n",
              "  <button class=\"colab-df-quickchart\" onclick=\"quickchart('df-67e21531-f3b4-41b9-b8b3-73b1fd3b2a61')\"\n",
              "            title=\"Suggest charts\"\n",
              "            style=\"display:none;\">\n",
              "\n",
              "<svg xmlns=\"http://www.w3.org/2000/svg\" height=\"24px\"viewBox=\"0 0 24 24\"\n",
              "     width=\"24px\">\n",
              "    <g>\n",
              "        <path d=\"M19 3H5c-1.1 0-2 .9-2 2v14c0 1.1.9 2 2 2h14c1.1 0 2-.9 2-2V5c0-1.1-.9-2-2-2zM9 17H7v-7h2v7zm4 0h-2V7h2v10zm4 0h-2v-4h2v4z\"/>\n",
              "    </g>\n",
              "</svg>\n",
              "  </button>\n",
              "\n",
              "<style>\n",
              "  .colab-df-quickchart {\n",
              "      --bg-color: #E8F0FE;\n",
              "      --fill-color: #1967D2;\n",
              "      --hover-bg-color: #E2EBFA;\n",
              "      --hover-fill-color: #174EA6;\n",
              "      --disabled-fill-color: #AAA;\n",
              "      --disabled-bg-color: #DDD;\n",
              "  }\n",
              "\n",
              "  [theme=dark] .colab-df-quickchart {\n",
              "      --bg-color: #3B4455;\n",
              "      --fill-color: #D2E3FC;\n",
              "      --hover-bg-color: #434B5C;\n",
              "      --hover-fill-color: #FFFFFF;\n",
              "      --disabled-bg-color: #3B4455;\n",
              "      --disabled-fill-color: #666;\n",
              "  }\n",
              "\n",
              "  .colab-df-quickchart {\n",
              "    background-color: var(--bg-color);\n",
              "    border: none;\n",
              "    border-radius: 50%;\n",
              "    cursor: pointer;\n",
              "    display: none;\n",
              "    fill: var(--fill-color);\n",
              "    height: 32px;\n",
              "    padding: 0;\n",
              "    width: 32px;\n",
              "  }\n",
              "\n",
              "  .colab-df-quickchart:hover {\n",
              "    background-color: var(--hover-bg-color);\n",
              "    box-shadow: 0 1px 2px rgba(60, 64, 67, 0.3), 0 1px 3px 1px rgba(60, 64, 67, 0.15);\n",
              "    fill: var(--button-hover-fill-color);\n",
              "  }\n",
              "\n",
              "  .colab-df-quickchart-complete:disabled,\n",
              "  .colab-df-quickchart-complete:disabled:hover {\n",
              "    background-color: var(--disabled-bg-color);\n",
              "    fill: var(--disabled-fill-color);\n",
              "    box-shadow: none;\n",
              "  }\n",
              "\n",
              "  .colab-df-spinner {\n",
              "    border: 2px solid var(--fill-color);\n",
              "    border-color: transparent;\n",
              "    border-bottom-color: var(--fill-color);\n",
              "    animation:\n",
              "      spin 1s steps(1) infinite;\n",
              "  }\n",
              "\n",
              "  @keyframes spin {\n",
              "    0% {\n",
              "      border-color: transparent;\n",
              "      border-bottom-color: var(--fill-color);\n",
              "      border-left-color: var(--fill-color);\n",
              "    }\n",
              "    20% {\n",
              "      border-color: transparent;\n",
              "      border-left-color: var(--fill-color);\n",
              "      border-top-color: var(--fill-color);\n",
              "    }\n",
              "    30% {\n",
              "      border-color: transparent;\n",
              "      border-left-color: var(--fill-color);\n",
              "      border-top-color: var(--fill-color);\n",
              "      border-right-color: var(--fill-color);\n",
              "    }\n",
              "    40% {\n",
              "      border-color: transparent;\n",
              "      border-right-color: var(--fill-color);\n",
              "      border-top-color: var(--fill-color);\n",
              "    }\n",
              "    60% {\n",
              "      border-color: transparent;\n",
              "      border-right-color: var(--fill-color);\n",
              "    }\n",
              "    80% {\n",
              "      border-color: transparent;\n",
              "      border-right-color: var(--fill-color);\n",
              "      border-bottom-color: var(--fill-color);\n",
              "    }\n",
              "    90% {\n",
              "      border-color: transparent;\n",
              "      border-bottom-color: var(--fill-color);\n",
              "    }\n",
              "  }\n",
              "</style>\n",
              "\n",
              "  <script>\n",
              "    async function quickchart(key) {\n",
              "      const quickchartButtonEl =\n",
              "        document.querySelector('#' + key + ' button');\n",
              "      quickchartButtonEl.disabled = true;  // To prevent multiple clicks.\n",
              "      quickchartButtonEl.classList.add('colab-df-spinner');\n",
              "      try {\n",
              "        const charts = await google.colab.kernel.invokeFunction(\n",
              "            'suggestCharts', [key], {});\n",
              "      } catch (error) {\n",
              "        console.error('Error during call to suggestCharts:', error);\n",
              "      }\n",
              "      quickchartButtonEl.classList.remove('colab-df-spinner');\n",
              "      quickchartButtonEl.classList.add('colab-df-quickchart-complete');\n",
              "    }\n",
              "    (() => {\n",
              "      let quickchartButtonEl =\n",
              "        document.querySelector('#df-67e21531-f3b4-41b9-b8b3-73b1fd3b2a61 button');\n",
              "      quickchartButtonEl.style.display =\n",
              "        google.colab.kernel.accessAllowed ? 'block' : 'none';\n",
              "    })();\n",
              "  </script>\n",
              "</div>\n",
              "\n",
              "    </div>\n",
              "  </div>\n"
            ],
            "application/vnd.google.colaboratory.intrinsic+json": {
              "type": "dataframe",
              "variable_name": "df",
              "summary": "{\n  \"name\": \"df\",\n  \"rows\": 56651,\n  \"fields\": [\n    {\n      \"column\": \"Unnamed: 0\",\n      \"properties\": {\n        \"dtype\": \"number\",\n        \"std\": 123229,\n        \"min\": 14,\n        \"max\": 422476,\n        \"num_unique_values\": 56651,\n        \"samples\": [\n          346834,\n          327041,\n          1981\n        ],\n        \"semantic_type\": \"\",\n        \"description\": \"\"\n      }\n    },\n    {\n      \"column\": \"Headline\",\n      \"properties\": {\n        \"dtype\": \"string\",\n        \"num_unique_values\": 49592,\n        \"samples\": [\n          \"We asked Canada to withdraw diplomats due to interference in our affairs: Jaishankar\",\n          \"Self-driving car set on fire by crowd in US; pic surfaces\",\n          \"US' Kraft Heinz recalls 83,800 cases of cheese over choking hazard\"\n        ],\n        \"semantic_type\": \"\",\n        \"description\": \"\"\n      }\n    },\n    {\n      \"column\": \"Content\",\n      \"properties\": {\n        \"dtype\": \"string\",\n        \"num_unique_values\": 49724,\n        \"samples\": [\n          \"A man-child is someone who refuses to take responsibility in a relationship and doesn\\u2019t understand the idea of putting in equal effort to make a relationship work. From testing a woman's patience, pushing her to limits to refusing to listen to her, a man-child may love a woman, but not change himself for their partner.\",\n          \"Amidst hectic lifestyles, health often takes a backseat for working women in India. Chronic backaches, thyroid, weight gain, and nutritional deficiencies are common issues. Stress impacts heart health and fuels anxiety, while mental health deteriorates. Prioritising self-care, balanced diets, stress reduction techniques and exercise are some of the practical solutions that help in the long run.\",\n          \"SpaceX celebrates a prolific 2023 with 96 launches, showcasing versatility with Falcon Heavy's X-37B mission. Starlink 6-36 launch marks its 12th Falcon 9 flight, reinforcing global connectivity ambitions. Next up: 21 Starlink satellites on January 2, 2024, continuing the space adventure.\"\n        ],\n        \"semantic_type\": \"\",\n        \"description\": \"\"\n      }\n    },\n    {\n      \"column\": \"News Categories\",\n      \"properties\": {\n        \"dtype\": \"category\",\n        \"num_unique_values\": 7,\n        \"samples\": [\n          \"entertainment\",\n          \"politics\",\n          \"sports\"\n        ],\n        \"semantic_type\": \"\",\n        \"description\": \"\"\n      }\n    },\n    {\n      \"column\": \"Date\",\n      \"properties\": {\n        \"dtype\": \"category\",\n        \"num_unique_values\": 116,\n        \"samples\": [\n          \"2024-01-06\",\n          \"23-09-2023\",\n          \"2023-11-05\"\n        ],\n        \"semantic_type\": \"\",\n        \"description\": \"\"\n      }\n    }\n  ]\n}"
            }
          },
          "metadata": {},
          "execution_count": 8
        }
      ]
    },
    {
      "cell_type": "code",
      "source": [
        "print(df['News Categories'].value_counts())\n"
      ],
      "metadata": {
        "colab": {
          "base_uri": "https://localhost:8080/"
        },
        "id": "fOA84jix1FuZ",
        "outputId": "f8849c4d-2ad2-40a5-bf81-0dc53e6b5c59"
      },
      "execution_count": 9,
      "outputs": [
        {
          "output_type": "stream",
          "name": "stdout",
          "text": [
            "News Categories\n",
            "business         9391\n",
            "sports           9299\n",
            "technology       8899\n",
            "entertainment    8180\n",
            "world            7399\n",
            "politics         6927\n",
            "miscellaneous    6556\n",
            "Name: count, dtype: int64\n"
          ]
        }
      ]
    },
    {
      "cell_type": "code",
      "source": [
        "categories = ['business','sports','technology','entertainment','world','politics','miscellaneous']"
      ],
      "metadata": {
        "id": "eSxFBL-lAzyL"
      },
      "execution_count": 10,
      "outputs": []
    },
    {
      "cell_type": "code",
      "source": [
        "df_business = df[df['News Categories']=='business']\n",
        "df_sports = df[df['News Categories']=='sports']\n",
        "df_technology = df[df['News Categories']=='technology']\n",
        "df_entertainment = df[df['News Categories']=='entertainment']\n",
        "df_world = df[df['News Categories']=='world']\n",
        "df_politics = df[df['News Categories']=='politics']\n",
        "df_miscellaneous = df[df['News Categories']=='miscellaneous']\n"
      ],
      "metadata": {
        "id": "SH7chvr0BATB"
      },
      "execution_count": 11,
      "outputs": []
    },
    {
      "cell_type": "code",
      "source": [
        "\n",
        "dls_business = TextDataLoaders.from_df(df_business, text_col='Content',label_col='News Categories',is_lm=True, seq_len=72, bs=64)\n",
        "dls_sports = TextDataLoaders.from_df(df_sports, text_col='Content',label_col='News Categories',is_lm=True, seq_len=72, bs=64)\n",
        "dls_technology = TextDataLoaders.from_df(df_technology, text_col='Content',label_col='News Categories',is_lm=True, seq_len=72, bs=64)\n",
        "dls_entertainment = TextDataLoaders.from_df(df_entertainment, text_col='Content',label_col='News Categories',is_lm=True, seq_len=72, bs=64)\n",
        "dls_world = TextDataLoaders.from_df(df_world, text_col='Content',label_col='News Categories',is_lm=True, seq_len=72, bs=64)\n",
        "dls_politics = TextDataLoaders.from_df(df_politics, text_col='Content',label_col='News Categories',is_lm=True, seq_len=72, bs=64)\n",
        "dls_miscellaneous = TextDataLoaders.from_df(df_miscellaneous, text_col='Content',label_col='News Categories',is_lm=True, seq_len=72, bs=64)\n",
        "\n"
      ],
      "metadata": {
        "colab": {
          "base_uri": "https://localhost:8080/",
          "height": 17
        },
        "id": "m_qfPriSdSkc",
        "outputId": "cd26cd08-5261-4f47-a56a-d42e7e89d843"
      },
      "execution_count": 12,
      "outputs": [
        {
          "output_type": "display_data",
          "data": {
            "text/plain": [
              "<IPython.core.display.HTML object>"
            ],
            "text/html": [
              "\n",
              "<style>\n",
              "    /* Turns off some styling */\n",
              "    progress {\n",
              "        /* gets rid of default border in Firefox and Opera. */\n",
              "        border: none;\n",
              "        /* Needs to be in here for Safari polyfill so background images work as expected. */\n",
              "        background-size: auto;\n",
              "    }\n",
              "    progress:not([value]), progress:not([value])::-webkit-progress-bar {\n",
              "        background: repeating-linear-gradient(45deg, #7e7e7e, #7e7e7e 10px, #5c5c5c 10px, #5c5c5c 20px);\n",
              "    }\n",
              "    .progress-bar-interrupted, .progress-bar-interrupted::-webkit-progress-bar {\n",
              "        background: #F44336;\n",
              "    }\n",
              "</style>\n"
            ]
          },
          "metadata": {}
        },
        {
          "output_type": "display_data",
          "data": {
            "text/plain": [
              "<IPython.core.display.HTML object>"
            ],
            "text/html": []
          },
          "metadata": {}
        },
        {
          "output_type": "display_data",
          "data": {
            "text/plain": [
              "<IPython.core.display.HTML object>"
            ],
            "text/html": [
              "\n",
              "<style>\n",
              "    /* Turns off some styling */\n",
              "    progress {\n",
              "        /* gets rid of default border in Firefox and Opera. */\n",
              "        border: none;\n",
              "        /* Needs to be in here for Safari polyfill so background images work as expected. */\n",
              "        background-size: auto;\n",
              "    }\n",
              "    progress:not([value]), progress:not([value])::-webkit-progress-bar {\n",
              "        background: repeating-linear-gradient(45deg, #7e7e7e, #7e7e7e 10px, #5c5c5c 10px, #5c5c5c 20px);\n",
              "    }\n",
              "    .progress-bar-interrupted, .progress-bar-interrupted::-webkit-progress-bar {\n",
              "        background: #F44336;\n",
              "    }\n",
              "</style>\n"
            ]
          },
          "metadata": {}
        },
        {
          "output_type": "display_data",
          "data": {
            "text/plain": [
              "<IPython.core.display.HTML object>"
            ],
            "text/html": []
          },
          "metadata": {}
        },
        {
          "output_type": "display_data",
          "data": {
            "text/plain": [
              "<IPython.core.display.HTML object>"
            ],
            "text/html": [
              "\n",
              "<style>\n",
              "    /* Turns off some styling */\n",
              "    progress {\n",
              "        /* gets rid of default border in Firefox and Opera. */\n",
              "        border: none;\n",
              "        /* Needs to be in here for Safari polyfill so background images work as expected. */\n",
              "        background-size: auto;\n",
              "    }\n",
              "    progress:not([value]), progress:not([value])::-webkit-progress-bar {\n",
              "        background: repeating-linear-gradient(45deg, #7e7e7e, #7e7e7e 10px, #5c5c5c 10px, #5c5c5c 20px);\n",
              "    }\n",
              "    .progress-bar-interrupted, .progress-bar-interrupted::-webkit-progress-bar {\n",
              "        background: #F44336;\n",
              "    }\n",
              "</style>\n"
            ]
          },
          "metadata": {}
        },
        {
          "output_type": "display_data",
          "data": {
            "text/plain": [
              "<IPython.core.display.HTML object>"
            ],
            "text/html": []
          },
          "metadata": {}
        },
        {
          "output_type": "display_data",
          "data": {
            "text/plain": [
              "<IPython.core.display.HTML object>"
            ],
            "text/html": [
              "\n",
              "<style>\n",
              "    /* Turns off some styling */\n",
              "    progress {\n",
              "        /* gets rid of default border in Firefox and Opera. */\n",
              "        border: none;\n",
              "        /* Needs to be in here for Safari polyfill so background images work as expected. */\n",
              "        background-size: auto;\n",
              "    }\n",
              "    progress:not([value]), progress:not([value])::-webkit-progress-bar {\n",
              "        background: repeating-linear-gradient(45deg, #7e7e7e, #7e7e7e 10px, #5c5c5c 10px, #5c5c5c 20px);\n",
              "    }\n",
              "    .progress-bar-interrupted, .progress-bar-interrupted::-webkit-progress-bar {\n",
              "        background: #F44336;\n",
              "    }\n",
              "</style>\n"
            ]
          },
          "metadata": {}
        },
        {
          "output_type": "display_data",
          "data": {
            "text/plain": [
              "<IPython.core.display.HTML object>"
            ],
            "text/html": []
          },
          "metadata": {}
        },
        {
          "output_type": "display_data",
          "data": {
            "text/plain": [
              "<IPython.core.display.HTML object>"
            ],
            "text/html": [
              "\n",
              "<style>\n",
              "    /* Turns off some styling */\n",
              "    progress {\n",
              "        /* gets rid of default border in Firefox and Opera. */\n",
              "        border: none;\n",
              "        /* Needs to be in here for Safari polyfill so background images work as expected. */\n",
              "        background-size: auto;\n",
              "    }\n",
              "    progress:not([value]), progress:not([value])::-webkit-progress-bar {\n",
              "        background: repeating-linear-gradient(45deg, #7e7e7e, #7e7e7e 10px, #5c5c5c 10px, #5c5c5c 20px);\n",
              "    }\n",
              "    .progress-bar-interrupted, .progress-bar-interrupted::-webkit-progress-bar {\n",
              "        background: #F44336;\n",
              "    }\n",
              "</style>\n"
            ]
          },
          "metadata": {}
        },
        {
          "output_type": "display_data",
          "data": {
            "text/plain": [
              "<IPython.core.display.HTML object>"
            ],
            "text/html": []
          },
          "metadata": {}
        },
        {
          "output_type": "display_data",
          "data": {
            "text/plain": [
              "<IPython.core.display.HTML object>"
            ],
            "text/html": [
              "\n",
              "<style>\n",
              "    /* Turns off some styling */\n",
              "    progress {\n",
              "        /* gets rid of default border in Firefox and Opera. */\n",
              "        border: none;\n",
              "        /* Needs to be in here for Safari polyfill so background images work as expected. */\n",
              "        background-size: auto;\n",
              "    }\n",
              "    progress:not([value]), progress:not([value])::-webkit-progress-bar {\n",
              "        background: repeating-linear-gradient(45deg, #7e7e7e, #7e7e7e 10px, #5c5c5c 10px, #5c5c5c 20px);\n",
              "    }\n",
              "    .progress-bar-interrupted, .progress-bar-interrupted::-webkit-progress-bar {\n",
              "        background: #F44336;\n",
              "    }\n",
              "</style>\n"
            ]
          },
          "metadata": {}
        },
        {
          "output_type": "display_data",
          "data": {
            "text/plain": [
              "<IPython.core.display.HTML object>"
            ],
            "text/html": []
          },
          "metadata": {}
        },
        {
          "output_type": "display_data",
          "data": {
            "text/plain": [
              "<IPython.core.display.HTML object>"
            ],
            "text/html": [
              "\n",
              "<style>\n",
              "    /* Turns off some styling */\n",
              "    progress {\n",
              "        /* gets rid of default border in Firefox and Opera. */\n",
              "        border: none;\n",
              "        /* Needs to be in here for Safari polyfill so background images work as expected. */\n",
              "        background-size: auto;\n",
              "    }\n",
              "    progress:not([value]), progress:not([value])::-webkit-progress-bar {\n",
              "        background: repeating-linear-gradient(45deg, #7e7e7e, #7e7e7e 10px, #5c5c5c 10px, #5c5c5c 20px);\n",
              "    }\n",
              "    .progress-bar-interrupted, .progress-bar-interrupted::-webkit-progress-bar {\n",
              "        background: #F44336;\n",
              "    }\n",
              "</style>\n"
            ]
          },
          "metadata": {}
        },
        {
          "output_type": "display_data",
          "data": {
            "text/plain": [
              "<IPython.core.display.HTML object>"
            ],
            "text/html": []
          },
          "metadata": {}
        }
      ]
    },
    {
      "cell_type": "code",
      "source": [
        "learn_business = language_model_learner(dls_business, AWD_LSTM,metrics=[accuracy, Perplexity()], path='.', wd=0.1)\n",
        "learn_sports = language_model_learner(dls_sports, AWD_LSTM,metrics=[accuracy, Perplexity()], path='.', wd=0.1)\n",
        "learn_technology = language_model_learner(dls_technology, AWD_LSTM,metrics=[accuracy, Perplexity()], path='.', wd=0.1)\n",
        "learn_entertainment = language_model_learner(dls_entertainment, AWD_LSTM,metrics=[accuracy, Perplexity()], path='.', wd=0.1)\n",
        "learn_world = language_model_learner(dls_world, AWD_LSTM,metrics=[accuracy, Perplexity()], path='.', wd=0.1)\n",
        "learn_politics = language_model_learner(dls_politics, AWD_LSTM,metrics=[accuracy, Perplexity()], path='.', wd=0.1)\n",
        "learn_miscellaneous = language_model_learner(dls_miscellaneous, AWD_LSTM,metrics=[accuracy, Perplexity()], path='.', wd=0.1)\n",
        "\n",
        "\n"
      ],
      "metadata": {
        "id": "NIzuuI8fysJT",
        "colab": {
          "base_uri": "https://localhost:8080/",
          "height": 37
        },
        "outputId": "c7a88d74-8de4-48f8-beff-b81b7a7faf81"
      },
      "execution_count": 13,
      "outputs": [
        {
          "output_type": "display_data",
          "data": {
            "text/plain": [
              "<IPython.core.display.HTML object>"
            ],
            "text/html": [
              "\n",
              "<style>\n",
              "    /* Turns off some styling */\n",
              "    progress {\n",
              "        /* gets rid of default border in Firefox and Opera. */\n",
              "        border: none;\n",
              "        /* Needs to be in here for Safari polyfill so background images work as expected. */\n",
              "        background-size: auto;\n",
              "    }\n",
              "    progress:not([value]), progress:not([value])::-webkit-progress-bar {\n",
              "        background: repeating-linear-gradient(45deg, #7e7e7e, #7e7e7e 10px, #5c5c5c 10px, #5c5c5c 20px);\n",
              "    }\n",
              "    .progress-bar-interrupted, .progress-bar-interrupted::-webkit-progress-bar {\n",
              "        background: #F44336;\n",
              "    }\n",
              "</style>\n"
            ]
          },
          "metadata": {}
        },
        {
          "output_type": "display_data",
          "data": {
            "text/plain": [
              "<IPython.core.display.HTML object>"
            ],
            "text/html": [
              "\n",
              "    <div>\n",
              "      <progress value='105070592' class='' max='105067061' style='width:300px; height:20px; vertical-align: middle;'></progress>\n",
              "      100.00% [105070592/105067061 00:03&lt;00:00]\n",
              "    </div>\n",
              "    "
            ]
          },
          "metadata": {}
        }
      ]
    },
    {
      "cell_type": "code",
      "source": [
        "learn_entertainment.fit_one_cycle(10, 5e-3)\n",
        "learn_business.fit_one_cycle(10, 5e-2)\n",
        "learn_sports.fit_one_cycle(10, 5e-2)\n",
        "learn_technology.fit_one_cycle(10, 5e-2)\n",
        "learn_world.fit_one_cycle(10, 5e-2)\n",
        "learn_politics.fit_one_cycle(10, 5e-2)\n",
        "learn_miscellaneous.fit_one_cycle(10, 5e-2)"
      ],
      "metadata": {
        "colab": {
          "base_uri": "https://localhost:8080/",
          "height": 1000
        },
        "id": "Ca91LXylaO_2",
        "outputId": "492075e1-58e6-428b-a0d9-2981c9421b22"
      },
      "execution_count": 15,
      "outputs": [
        {
          "output_type": "display_data",
          "data": {
            "text/plain": [
              "<IPython.core.display.HTML object>"
            ],
            "text/html": [
              "\n",
              "<style>\n",
              "    /* Turns off some styling */\n",
              "    progress {\n",
              "        /* gets rid of default border in Firefox and Opera. */\n",
              "        border: none;\n",
              "        /* Needs to be in here for Safari polyfill so background images work as expected. */\n",
              "        background-size: auto;\n",
              "    }\n",
              "    progress:not([value]), progress:not([value])::-webkit-progress-bar {\n",
              "        background: repeating-linear-gradient(45deg, #7e7e7e, #7e7e7e 10px, #5c5c5c 10px, #5c5c5c 20px);\n",
              "    }\n",
              "    .progress-bar-interrupted, .progress-bar-interrupted::-webkit-progress-bar {\n",
              "        background: #F44336;\n",
              "    }\n",
              "</style>\n"
            ]
          },
          "metadata": {}
        },
        {
          "output_type": "display_data",
          "data": {
            "text/plain": [
              "<IPython.core.display.HTML object>"
            ],
            "text/html": [
              "<table border=\"1\" class=\"dataframe\">\n",
              "  <thead>\n",
              "    <tr style=\"text-align: left;\">\n",
              "      <th>epoch</th>\n",
              "      <th>train_loss</th>\n",
              "      <th>valid_loss</th>\n",
              "      <th>accuracy</th>\n",
              "      <th>perplexity</th>\n",
              "      <th>time</th>\n",
              "    </tr>\n",
              "  </thead>\n",
              "  <tbody>\n",
              "    <tr>\n",
              "      <td>0</td>\n",
              "      <td>3.449630</td>\n",
              "      <td>3.302183</td>\n",
              "      <td>0.376278</td>\n",
              "      <td>27.171888</td>\n",
              "      <td>00:43</td>\n",
              "    </tr>\n",
              "    <tr>\n",
              "      <td>1</td>\n",
              "      <td>3.429083</td>\n",
              "      <td>3.254565</td>\n",
              "      <td>0.380916</td>\n",
              "      <td>25.908342</td>\n",
              "      <td>00:36</td>\n",
              "    </tr>\n",
              "    <tr>\n",
              "      <td>2</td>\n",
              "      <td>3.352221</td>\n",
              "      <td>3.210337</td>\n",
              "      <td>0.386026</td>\n",
              "      <td>24.787436</td>\n",
              "      <td>00:36</td>\n",
              "    </tr>\n",
              "    <tr>\n",
              "      <td>3</td>\n",
              "      <td>3.237665</td>\n",
              "      <td>3.184700</td>\n",
              "      <td>0.389591</td>\n",
              "      <td>24.160028</td>\n",
              "      <td>00:35</td>\n",
              "    </tr>\n",
              "    <tr>\n",
              "      <td>4</td>\n",
              "      <td>3.158429</td>\n",
              "      <td>3.171135</td>\n",
              "      <td>0.391656</td>\n",
              "      <td>23.834526</td>\n",
              "      <td>00:35</td>\n",
              "    </tr>\n",
              "    <tr>\n",
              "      <td>5</td>\n",
              "      <td>3.102591</td>\n",
              "      <td>3.161857</td>\n",
              "      <td>0.391832</td>\n",
              "      <td>23.614410</td>\n",
              "      <td>00:35</td>\n",
              "    </tr>\n",
              "    <tr>\n",
              "      <td>6</td>\n",
              "      <td>3.072106</td>\n",
              "      <td>3.154686</td>\n",
              "      <td>0.393228</td>\n",
              "      <td>23.445667</td>\n",
              "      <td>00:35</td>\n",
              "    </tr>\n",
              "    <tr>\n",
              "      <td>7</td>\n",
              "      <td>3.000172</td>\n",
              "      <td>3.151128</td>\n",
              "      <td>0.392790</td>\n",
              "      <td>23.362410</td>\n",
              "      <td>00:35</td>\n",
              "    </tr>\n",
              "    <tr>\n",
              "      <td>8</td>\n",
              "      <td>2.971491</td>\n",
              "      <td>3.149407</td>\n",
              "      <td>0.394212</td>\n",
              "      <td>23.322227</td>\n",
              "      <td>00:34</td>\n",
              "    </tr>\n",
              "    <tr>\n",
              "      <td>9</td>\n",
              "      <td>2.966849</td>\n",
              "      <td>3.149080</td>\n",
              "      <td>0.394176</td>\n",
              "      <td>23.314611</td>\n",
              "      <td>00:35</td>\n",
              "    </tr>\n",
              "  </tbody>\n",
              "</table>"
            ]
          },
          "metadata": {}
        },
        {
          "output_type": "display_data",
          "data": {
            "text/plain": [
              "<IPython.core.display.HTML object>"
            ],
            "text/html": [
              "\n",
              "<style>\n",
              "    /* Turns off some styling */\n",
              "    progress {\n",
              "        /* gets rid of default border in Firefox and Opera. */\n",
              "        border: none;\n",
              "        /* Needs to be in here for Safari polyfill so background images work as expected. */\n",
              "        background-size: auto;\n",
              "    }\n",
              "    progress:not([value]), progress:not([value])::-webkit-progress-bar {\n",
              "        background: repeating-linear-gradient(45deg, #7e7e7e, #7e7e7e 10px, #5c5c5c 10px, #5c5c5c 20px);\n",
              "    }\n",
              "    .progress-bar-interrupted, .progress-bar-interrupted::-webkit-progress-bar {\n",
              "        background: #F44336;\n",
              "    }\n",
              "</style>\n"
            ]
          },
          "metadata": {}
        },
        {
          "output_type": "display_data",
          "data": {
            "text/plain": [
              "<IPython.core.display.HTML object>"
            ],
            "text/html": [
              "<table border=\"1\" class=\"dataframe\">\n",
              "  <thead>\n",
              "    <tr style=\"text-align: left;\">\n",
              "      <th>epoch</th>\n",
              "      <th>train_loss</th>\n",
              "      <th>valid_loss</th>\n",
              "      <th>accuracy</th>\n",
              "      <th>perplexity</th>\n",
              "      <th>time</th>\n",
              "    </tr>\n",
              "  </thead>\n",
              "  <tbody>\n",
              "    <tr>\n",
              "      <td>0</td>\n",
              "      <td>3.263767</td>\n",
              "      <td>3.420927</td>\n",
              "      <td>0.372540</td>\n",
              "      <td>30.597761</td>\n",
              "      <td>00:42</td>\n",
              "    </tr>\n",
              "    <tr>\n",
              "      <td>1</td>\n",
              "      <td>3.619940</td>\n",
              "      <td>3.732769</td>\n",
              "      <td>0.344689</td>\n",
              "      <td>41.794697</td>\n",
              "      <td>00:40</td>\n",
              "    </tr>\n",
              "    <tr>\n",
              "      <td>2</td>\n",
              "      <td>3.866966</td>\n",
              "      <td>3.785898</td>\n",
              "      <td>0.340850</td>\n",
              "      <td>44.075222</td>\n",
              "      <td>00:39</td>\n",
              "    </tr>\n",
              "    <tr>\n",
              "      <td>3</td>\n",
              "      <td>3.857801</td>\n",
              "      <td>3.750471</td>\n",
              "      <td>0.341337</td>\n",
              "      <td>42.541119</td>\n",
              "      <td>00:40</td>\n",
              "    </tr>\n",
              "    <tr>\n",
              "      <td>4</td>\n",
              "      <td>3.741915</td>\n",
              "      <td>3.657640</td>\n",
              "      <td>0.352993</td>\n",
              "      <td>38.769745</td>\n",
              "      <td>00:40</td>\n",
              "    </tr>\n",
              "    <tr>\n",
              "      <td>5</td>\n",
              "      <td>3.604614</td>\n",
              "      <td>3.555020</td>\n",
              "      <td>0.361667</td>\n",
              "      <td>34.988522</td>\n",
              "      <td>00:40</td>\n",
              "    </tr>\n",
              "    <tr>\n",
              "      <td>6</td>\n",
              "      <td>3.425916</td>\n",
              "      <td>3.443151</td>\n",
              "      <td>0.374328</td>\n",
              "      <td>31.285368</td>\n",
              "      <td>00:40</td>\n",
              "    </tr>\n",
              "    <tr>\n",
              "      <td>7</td>\n",
              "      <td>3.218730</td>\n",
              "      <td>3.360007</td>\n",
              "      <td>0.382661</td>\n",
              "      <td>28.789387</td>\n",
              "      <td>00:40</td>\n",
              "    </tr>\n",
              "    <tr>\n",
              "      <td>8</td>\n",
              "      <td>3.059702</td>\n",
              "      <td>3.323850</td>\n",
              "      <td>0.386508</td>\n",
              "      <td>27.767046</td>\n",
              "      <td>00:39</td>\n",
              "    </tr>\n",
              "    <tr>\n",
              "      <td>9</td>\n",
              "      <td>2.946145</td>\n",
              "      <td>3.318187</td>\n",
              "      <td>0.387038</td>\n",
              "      <td>27.610254</td>\n",
              "      <td>00:40</td>\n",
              "    </tr>\n",
              "  </tbody>\n",
              "</table>"
            ]
          },
          "metadata": {}
        },
        {
          "output_type": "display_data",
          "data": {
            "text/plain": [
              "<IPython.core.display.HTML object>"
            ],
            "text/html": [
              "\n",
              "<style>\n",
              "    /* Turns off some styling */\n",
              "    progress {\n",
              "        /* gets rid of default border in Firefox and Opera. */\n",
              "        border: none;\n",
              "        /* Needs to be in here for Safari polyfill so background images work as expected. */\n",
              "        background-size: auto;\n",
              "    }\n",
              "    progress:not([value]), progress:not([value])::-webkit-progress-bar {\n",
              "        background: repeating-linear-gradient(45deg, #7e7e7e, #7e7e7e 10px, #5c5c5c 10px, #5c5c5c 20px);\n",
              "    }\n",
              "    .progress-bar-interrupted, .progress-bar-interrupted::-webkit-progress-bar {\n",
              "        background: #F44336;\n",
              "    }\n",
              "</style>\n"
            ]
          },
          "metadata": {}
        },
        {
          "output_type": "display_data",
          "data": {
            "text/plain": [
              "<IPython.core.display.HTML object>"
            ],
            "text/html": [
              "<table border=\"1\" class=\"dataframe\">\n",
              "  <thead>\n",
              "    <tr style=\"text-align: left;\">\n",
              "      <th>epoch</th>\n",
              "      <th>train_loss</th>\n",
              "      <th>valid_loss</th>\n",
              "      <th>accuracy</th>\n",
              "      <th>perplexity</th>\n",
              "      <th>time</th>\n",
              "    </tr>\n",
              "  </thead>\n",
              "  <tbody>\n",
              "    <tr>\n",
              "      <td>0</td>\n",
              "      <td>2.835822</td>\n",
              "      <td>2.911863</td>\n",
              "      <td>0.425222</td>\n",
              "      <td>18.391035</td>\n",
              "      <td>00:40</td>\n",
              "    </tr>\n",
              "    <tr>\n",
              "      <td>1</td>\n",
              "      <td>3.178931</td>\n",
              "      <td>3.198554</td>\n",
              "      <td>0.395193</td>\n",
              "      <td>24.497084</td>\n",
              "      <td>00:40</td>\n",
              "    </tr>\n",
              "    <tr>\n",
              "      <td>2</td>\n",
              "      <td>3.367401</td>\n",
              "      <td>3.256043</td>\n",
              "      <td>0.389146</td>\n",
              "      <td>25.946655</td>\n",
              "      <td>00:40</td>\n",
              "    </tr>\n",
              "    <tr>\n",
              "      <td>3</td>\n",
              "      <td>3.332524</td>\n",
              "      <td>3.200524</td>\n",
              "      <td>0.394870</td>\n",
              "      <td>24.545391</td>\n",
              "      <td>00:41</td>\n",
              "    </tr>\n",
              "    <tr>\n",
              "      <td>4</td>\n",
              "      <td>3.265461</td>\n",
              "      <td>3.113418</td>\n",
              "      <td>0.404961</td>\n",
              "      <td>22.497812</td>\n",
              "      <td>00:40</td>\n",
              "    </tr>\n",
              "    <tr>\n",
              "      <td>5</td>\n",
              "      <td>3.129625</td>\n",
              "      <td>3.026137</td>\n",
              "      <td>0.413833</td>\n",
              "      <td>20.617426</td>\n",
              "      <td>00:40</td>\n",
              "    </tr>\n",
              "    <tr>\n",
              "      <td>6</td>\n",
              "      <td>2.984266</td>\n",
              "      <td>2.938559</td>\n",
              "      <td>0.423577</td>\n",
              "      <td>18.888605</td>\n",
              "      <td>00:39</td>\n",
              "    </tr>\n",
              "    <tr>\n",
              "      <td>7</td>\n",
              "      <td>2.847731</td>\n",
              "      <td>2.867045</td>\n",
              "      <td>0.429783</td>\n",
              "      <td>17.584986</td>\n",
              "      <td>00:40</td>\n",
              "    </tr>\n",
              "    <tr>\n",
              "      <td>8</td>\n",
              "      <td>2.691611</td>\n",
              "      <td>2.827336</td>\n",
              "      <td>0.435847</td>\n",
              "      <td>16.900383</td>\n",
              "      <td>00:40</td>\n",
              "    </tr>\n",
              "    <tr>\n",
              "      <td>9</td>\n",
              "      <td>2.605393</td>\n",
              "      <td>2.821065</td>\n",
              "      <td>0.437821</td>\n",
              "      <td>16.794735</td>\n",
              "      <td>00:40</td>\n",
              "    </tr>\n",
              "  </tbody>\n",
              "</table>"
            ]
          },
          "metadata": {}
        },
        {
          "output_type": "display_data",
          "data": {
            "text/plain": [
              "<IPython.core.display.HTML object>"
            ],
            "text/html": [
              "\n",
              "<style>\n",
              "    /* Turns off some styling */\n",
              "    progress {\n",
              "        /* gets rid of default border in Firefox and Opera. */\n",
              "        border: none;\n",
              "        /* Needs to be in here for Safari polyfill so background images work as expected. */\n",
              "        background-size: auto;\n",
              "    }\n",
              "    progress:not([value]), progress:not([value])::-webkit-progress-bar {\n",
              "        background: repeating-linear-gradient(45deg, #7e7e7e, #7e7e7e 10px, #5c5c5c 10px, #5c5c5c 20px);\n",
              "    }\n",
              "    .progress-bar-interrupted, .progress-bar-interrupted::-webkit-progress-bar {\n",
              "        background: #F44336;\n",
              "    }\n",
              "</style>\n"
            ]
          },
          "metadata": {}
        },
        {
          "output_type": "display_data",
          "data": {
            "text/plain": [
              "<IPython.core.display.HTML object>"
            ],
            "text/html": [
              "<table border=\"1\" class=\"dataframe\">\n",
              "  <thead>\n",
              "    <tr style=\"text-align: left;\">\n",
              "      <th>epoch</th>\n",
              "      <th>train_loss</th>\n",
              "      <th>valid_loss</th>\n",
              "      <th>accuracy</th>\n",
              "      <th>perplexity</th>\n",
              "      <th>time</th>\n",
              "    </tr>\n",
              "  </thead>\n",
              "  <tbody>\n",
              "    <tr>\n",
              "      <td>0</td>\n",
              "      <td>4.150052</td>\n",
              "      <td>3.725019</td>\n",
              "      <td>0.330816</td>\n",
              "      <td>41.472000</td>\n",
              "      <td>00:37</td>\n",
              "    </tr>\n",
              "    <tr>\n",
              "      <td>1</td>\n",
              "      <td>4.102520</td>\n",
              "      <td>3.976223</td>\n",
              "      <td>0.312347</td>\n",
              "      <td>53.315292</td>\n",
              "      <td>00:37</td>\n",
              "    </tr>\n",
              "    <tr>\n",
              "      <td>2</td>\n",
              "      <td>4.155914</td>\n",
              "      <td>4.041963</td>\n",
              "      <td>0.314789</td>\n",
              "      <td>56.937981</td>\n",
              "      <td>00:39</td>\n",
              "    </tr>\n",
              "    <tr>\n",
              "      <td>3</td>\n",
              "      <td>4.073960</td>\n",
              "      <td>4.008442</td>\n",
              "      <td>0.314219</td>\n",
              "      <td>55.061039</td>\n",
              "      <td>00:36</td>\n",
              "    </tr>\n",
              "    <tr>\n",
              "      <td>4</td>\n",
              "      <td>3.952726</td>\n",
              "      <td>3.932462</td>\n",
              "      <td>0.323498</td>\n",
              "      <td>51.032452</td>\n",
              "      <td>00:37</td>\n",
              "    </tr>\n",
              "    <tr>\n",
              "      <td>5</td>\n",
              "      <td>3.783632</td>\n",
              "      <td>3.833375</td>\n",
              "      <td>0.332245</td>\n",
              "      <td>46.218273</td>\n",
              "      <td>00:38</td>\n",
              "    </tr>\n",
              "    <tr>\n",
              "      <td>6</td>\n",
              "      <td>3.571992</td>\n",
              "      <td>3.732227</td>\n",
              "      <td>0.340135</td>\n",
              "      <td>41.772034</td>\n",
              "      <td>00:38</td>\n",
              "    </tr>\n",
              "    <tr>\n",
              "      <td>7</td>\n",
              "      <td>3.336231</td>\n",
              "      <td>3.652962</td>\n",
              "      <td>0.348908</td>\n",
              "      <td>38.588795</td>\n",
              "      <td>00:37</td>\n",
              "    </tr>\n",
              "    <tr>\n",
              "      <td>8</td>\n",
              "      <td>3.164222</td>\n",
              "      <td>3.615781</td>\n",
              "      <td>0.352759</td>\n",
              "      <td>37.180374</td>\n",
              "      <td>00:37</td>\n",
              "    </tr>\n",
              "    <tr>\n",
              "      <td>9</td>\n",
              "      <td>3.039108</td>\n",
              "      <td>3.610851</td>\n",
              "      <td>0.353754</td>\n",
              "      <td>36.997509</td>\n",
              "      <td>00:37</td>\n",
              "    </tr>\n",
              "  </tbody>\n",
              "</table>"
            ]
          },
          "metadata": {}
        },
        {
          "output_type": "display_data",
          "data": {
            "text/plain": [
              "<IPython.core.display.HTML object>"
            ],
            "text/html": [
              "\n",
              "<style>\n",
              "    /* Turns off some styling */\n",
              "    progress {\n",
              "        /* gets rid of default border in Firefox and Opera. */\n",
              "        border: none;\n",
              "        /* Needs to be in here for Safari polyfill so background images work as expected. */\n",
              "        background-size: auto;\n",
              "    }\n",
              "    progress:not([value]), progress:not([value])::-webkit-progress-bar {\n",
              "        background: repeating-linear-gradient(45deg, #7e7e7e, #7e7e7e 10px, #5c5c5c 10px, #5c5c5c 20px);\n",
              "    }\n",
              "    .progress-bar-interrupted, .progress-bar-interrupted::-webkit-progress-bar {\n",
              "        background: #F44336;\n",
              "    }\n",
              "</style>\n"
            ]
          },
          "metadata": {}
        },
        {
          "output_type": "display_data",
          "data": {
            "text/plain": [
              "<IPython.core.display.HTML object>"
            ],
            "text/html": [
              "<table border=\"1\" class=\"dataframe\">\n",
              "  <thead>\n",
              "    <tr style=\"text-align: left;\">\n",
              "      <th>epoch</th>\n",
              "      <th>train_loss</th>\n",
              "      <th>valid_loss</th>\n",
              "      <th>accuracy</th>\n",
              "      <th>perplexity</th>\n",
              "      <th>time</th>\n",
              "    </tr>\n",
              "  </thead>\n",
              "  <tbody>\n",
              "    <tr>\n",
              "      <td>0</td>\n",
              "      <td>3.908082</td>\n",
              "      <td>3.413367</td>\n",
              "      <td>0.357414</td>\n",
              "      <td>30.367327</td>\n",
              "      <td>00:31</td>\n",
              "    </tr>\n",
              "    <tr>\n",
              "      <td>1</td>\n",
              "      <td>3.768627</td>\n",
              "      <td>3.643630</td>\n",
              "      <td>0.340480</td>\n",
              "      <td>38.230343</td>\n",
              "      <td>00:32</td>\n",
              "    </tr>\n",
              "    <tr>\n",
              "      <td>2</td>\n",
              "      <td>3.785871</td>\n",
              "      <td>3.723129</td>\n",
              "      <td>0.338576</td>\n",
              "      <td>41.393723</td>\n",
              "      <td>00:31</td>\n",
              "    </tr>\n",
              "    <tr>\n",
              "      <td>3</td>\n",
              "      <td>3.739060</td>\n",
              "      <td>3.678290</td>\n",
              "      <td>0.347723</td>\n",
              "      <td>39.578651</td>\n",
              "      <td>00:31</td>\n",
              "    </tr>\n",
              "    <tr>\n",
              "      <td>4</td>\n",
              "      <td>3.622256</td>\n",
              "      <td>3.618817</td>\n",
              "      <td>0.352033</td>\n",
              "      <td>37.293434</td>\n",
              "      <td>00:31</td>\n",
              "    </tr>\n",
              "    <tr>\n",
              "      <td>5</td>\n",
              "      <td>3.451198</td>\n",
              "      <td>3.531785</td>\n",
              "      <td>0.360123</td>\n",
              "      <td>34.184933</td>\n",
              "      <td>00:32</td>\n",
              "    </tr>\n",
              "    <tr>\n",
              "      <td>6</td>\n",
              "      <td>3.262084</td>\n",
              "      <td>3.440225</td>\n",
              "      <td>0.366788</td>\n",
              "      <td>31.193972</td>\n",
              "      <td>00:32</td>\n",
              "    </tr>\n",
              "    <tr>\n",
              "      <td>7</td>\n",
              "      <td>3.096750</td>\n",
              "      <td>3.378819</td>\n",
              "      <td>0.374977</td>\n",
              "      <td>29.336119</td>\n",
              "      <td>00:31</td>\n",
              "    </tr>\n",
              "    <tr>\n",
              "      <td>8</td>\n",
              "      <td>2.903537</td>\n",
              "      <td>3.346500</td>\n",
              "      <td>0.377571</td>\n",
              "      <td>28.403160</td>\n",
              "      <td>00:31</td>\n",
              "    </tr>\n",
              "    <tr>\n",
              "      <td>9</td>\n",
              "      <td>2.787639</td>\n",
              "      <td>3.342024</td>\n",
              "      <td>0.378172</td>\n",
              "      <td>28.276302</td>\n",
              "      <td>00:32</td>\n",
              "    </tr>\n",
              "  </tbody>\n",
              "</table>"
            ]
          },
          "metadata": {}
        },
        {
          "output_type": "display_data",
          "data": {
            "text/plain": [
              "<IPython.core.display.HTML object>"
            ],
            "text/html": [
              "\n",
              "<style>\n",
              "    /* Turns off some styling */\n",
              "    progress {\n",
              "        /* gets rid of default border in Firefox and Opera. */\n",
              "        border: none;\n",
              "        /* Needs to be in here for Safari polyfill so background images work as expected. */\n",
              "        background-size: auto;\n",
              "    }\n",
              "    progress:not([value]), progress:not([value])::-webkit-progress-bar {\n",
              "        background: repeating-linear-gradient(45deg, #7e7e7e, #7e7e7e 10px, #5c5c5c 10px, #5c5c5c 20px);\n",
              "    }\n",
              "    .progress-bar-interrupted, .progress-bar-interrupted::-webkit-progress-bar {\n",
              "        background: #F44336;\n",
              "    }\n",
              "</style>\n"
            ]
          },
          "metadata": {}
        },
        {
          "output_type": "display_data",
          "data": {
            "text/plain": [
              "<IPython.core.display.HTML object>"
            ],
            "text/html": [
              "<table border=\"1\" class=\"dataframe\">\n",
              "  <thead>\n",
              "    <tr style=\"text-align: left;\">\n",
              "      <th>epoch</th>\n",
              "      <th>train_loss</th>\n",
              "      <th>valid_loss</th>\n",
              "      <th>accuracy</th>\n",
              "      <th>perplexity</th>\n",
              "      <th>time</th>\n",
              "    </tr>\n",
              "  </thead>\n",
              "  <tbody>\n",
              "    <tr>\n",
              "      <td>0</td>\n",
              "      <td>3.879275</td>\n",
              "      <td>3.261345</td>\n",
              "      <td>0.377776</td>\n",
              "      <td>26.084589</td>\n",
              "      <td>00:29</td>\n",
              "    </tr>\n",
              "    <tr>\n",
              "      <td>1</td>\n",
              "      <td>3.574048</td>\n",
              "      <td>3.354415</td>\n",
              "      <td>0.368931</td>\n",
              "      <td>28.628864</td>\n",
              "      <td>00:29</td>\n",
              "    </tr>\n",
              "    <tr>\n",
              "      <td>2</td>\n",
              "      <td>3.529546</td>\n",
              "      <td>3.409228</td>\n",
              "      <td>0.370163</td>\n",
              "      <td>30.241898</td>\n",
              "      <td>00:30</td>\n",
              "    </tr>\n",
              "    <tr>\n",
              "      <td>3</td>\n",
              "      <td>3.445748</td>\n",
              "      <td>3.373679</td>\n",
              "      <td>0.368959</td>\n",
              "      <td>29.185696</td>\n",
              "      <td>00:29</td>\n",
              "    </tr>\n",
              "    <tr>\n",
              "      <td>4</td>\n",
              "      <td>3.346776</td>\n",
              "      <td>3.275488</td>\n",
              "      <td>0.382960</td>\n",
              "      <td>26.456123</td>\n",
              "      <td>00:29</td>\n",
              "    </tr>\n",
              "    <tr>\n",
              "      <td>5</td>\n",
              "      <td>3.206549</td>\n",
              "      <td>3.195769</td>\n",
              "      <td>0.391941</td>\n",
              "      <td>24.428942</td>\n",
              "      <td>00:29</td>\n",
              "    </tr>\n",
              "    <tr>\n",
              "      <td>6</td>\n",
              "      <td>3.041877</td>\n",
              "      <td>3.093707</td>\n",
              "      <td>0.403173</td>\n",
              "      <td>22.058701</td>\n",
              "      <td>00:29</td>\n",
              "    </tr>\n",
              "    <tr>\n",
              "      <td>7</td>\n",
              "      <td>2.882716</td>\n",
              "      <td>3.030865</td>\n",
              "      <td>0.409551</td>\n",
              "      <td>20.715147</td>\n",
              "      <td>00:29</td>\n",
              "    </tr>\n",
              "    <tr>\n",
              "      <td>8</td>\n",
              "      <td>2.724333</td>\n",
              "      <td>3.001129</td>\n",
              "      <td>0.413260</td>\n",
              "      <td>20.108225</td>\n",
              "      <td>00:30</td>\n",
              "    </tr>\n",
              "    <tr>\n",
              "      <td>9</td>\n",
              "      <td>2.633180</td>\n",
              "      <td>2.996797</td>\n",
              "      <td>0.414172</td>\n",
              "      <td>20.021303</td>\n",
              "      <td>00:29</td>\n",
              "    </tr>\n",
              "  </tbody>\n",
              "</table>"
            ]
          },
          "metadata": {}
        },
        {
          "output_type": "display_data",
          "data": {
            "text/plain": [
              "<IPython.core.display.HTML object>"
            ],
            "text/html": [
              "\n",
              "<style>\n",
              "    /* Turns off some styling */\n",
              "    progress {\n",
              "        /* gets rid of default border in Firefox and Opera. */\n",
              "        border: none;\n",
              "        /* Needs to be in here for Safari polyfill so background images work as expected. */\n",
              "        background-size: auto;\n",
              "    }\n",
              "    progress:not([value]), progress:not([value])::-webkit-progress-bar {\n",
              "        background: repeating-linear-gradient(45deg, #7e7e7e, #7e7e7e 10px, #5c5c5c 10px, #5c5c5c 20px);\n",
              "    }\n",
              "    .progress-bar-interrupted, .progress-bar-interrupted::-webkit-progress-bar {\n",
              "        background: #F44336;\n",
              "    }\n",
              "</style>\n"
            ]
          },
          "metadata": {}
        },
        {
          "output_type": "display_data",
          "data": {
            "text/plain": [
              "<IPython.core.display.HTML object>"
            ],
            "text/html": [
              "<table border=\"1\" class=\"dataframe\">\n",
              "  <thead>\n",
              "    <tr style=\"text-align: left;\">\n",
              "      <th>epoch</th>\n",
              "      <th>train_loss</th>\n",
              "      <th>valid_loss</th>\n",
              "      <th>accuracy</th>\n",
              "      <th>perplexity</th>\n",
              "      <th>time</th>\n",
              "    </tr>\n",
              "  </thead>\n",
              "  <tbody>\n",
              "    <tr>\n",
              "      <td>0</td>\n",
              "      <td>4.334040</td>\n",
              "      <td>3.817006</td>\n",
              "      <td>0.323467</td>\n",
              "      <td>45.467880</td>\n",
              "      <td>00:26</td>\n",
              "    </tr>\n",
              "    <tr>\n",
              "      <td>1</td>\n",
              "      <td>4.150408</td>\n",
              "      <td>4.023544</td>\n",
              "      <td>0.310822</td>\n",
              "      <td>55.898853</td>\n",
              "      <td>00:26</td>\n",
              "    </tr>\n",
              "    <tr>\n",
              "      <td>2</td>\n",
              "      <td>4.134950</td>\n",
              "      <td>4.125387</td>\n",
              "      <td>0.305285</td>\n",
              "      <td>61.891769</td>\n",
              "      <td>00:26</td>\n",
              "    </tr>\n",
              "    <tr>\n",
              "      <td>3</td>\n",
              "      <td>4.028130</td>\n",
              "      <td>4.096155</td>\n",
              "      <td>0.311237</td>\n",
              "      <td>60.108734</td>\n",
              "      <td>00:26</td>\n",
              "    </tr>\n",
              "    <tr>\n",
              "      <td>4</td>\n",
              "      <td>3.889101</td>\n",
              "      <td>4.041470</td>\n",
              "      <td>0.315216</td>\n",
              "      <td>56.909943</td>\n",
              "      <td>00:26</td>\n",
              "    </tr>\n",
              "    <tr>\n",
              "      <td>5</td>\n",
              "      <td>3.712931</td>\n",
              "      <td>3.956427</td>\n",
              "      <td>0.322902</td>\n",
              "      <td>52.270222</td>\n",
              "      <td>00:27</td>\n",
              "    </tr>\n",
              "    <tr>\n",
              "      <td>6</td>\n",
              "      <td>3.488942</td>\n",
              "      <td>3.877739</td>\n",
              "      <td>0.330602</td>\n",
              "      <td>48.314850</td>\n",
              "      <td>00:26</td>\n",
              "    </tr>\n",
              "    <tr>\n",
              "      <td>7</td>\n",
              "      <td>3.254877</td>\n",
              "      <td>3.816857</td>\n",
              "      <td>0.336560</td>\n",
              "      <td>45.461082</td>\n",
              "      <td>00:27</td>\n",
              "    </tr>\n",
              "    <tr>\n",
              "      <td>8</td>\n",
              "      <td>3.080879</td>\n",
              "      <td>3.792185</td>\n",
              "      <td>0.339417</td>\n",
              "      <td>44.353188</td>\n",
              "      <td>00:26</td>\n",
              "    </tr>\n",
              "    <tr>\n",
              "      <td>9</td>\n",
              "      <td>2.955989</td>\n",
              "      <td>3.788295</td>\n",
              "      <td>0.340047</td>\n",
              "      <td>44.181007</td>\n",
              "      <td>00:26</td>\n",
              "    </tr>\n",
              "  </tbody>\n",
              "</table>"
            ]
          },
          "metadata": {}
        }
      ]
    },
    {
      "cell_type": "code",
      "source": [
        "learn_entertainment.predict('This movie is about', n_words=5)\n"
      ],
      "metadata": {
        "id": "fji1LOwf3HRO",
        "colab": {
          "base_uri": "https://localhost:8080/",
          "height": 35
        },
        "outputId": "f77285f4-e825-4993-9ad0-e87755757af8"
      },
      "execution_count": 16,
      "outputs": [
        {
          "output_type": "display_data",
          "data": {
            "text/plain": [
              "<IPython.core.display.HTML object>"
            ],
            "text/html": [
              "\n",
              "<style>\n",
              "    /* Turns off some styling */\n",
              "    progress {\n",
              "        /* gets rid of default border in Firefox and Opera. */\n",
              "        border: none;\n",
              "        /* Needs to be in here for Safari polyfill so background images work as expected. */\n",
              "        background-size: auto;\n",
              "    }\n",
              "    progress:not([value]), progress:not([value])::-webkit-progress-bar {\n",
              "        background: repeating-linear-gradient(45deg, #7e7e7e, #7e7e7e 10px, #5c5c5c 10px, #5c5c5c 20px);\n",
              "    }\n",
              "    .progress-bar-interrupted, .progress-bar-interrupted::-webkit-progress-bar {\n",
              "        background: #F44336;\n",
              "    }\n",
              "</style>\n"
            ]
          },
          "metadata": {}
        },
        {
          "output_type": "display_data",
          "data": {
            "text/plain": [
              "<IPython.core.display.HTML object>"
            ],
            "text/html": []
          },
          "metadata": {}
        },
        {
          "output_type": "execute_result",
          "data": {
            "text/plain": [
              "'This movie is about an interesting filmmaker focusing on'"
            ],
            "application/vnd.google.colaboratory.intrinsic+json": {
              "type": "string"
            }
          },
          "metadata": {},
          "execution_count": 16
        }
      ]
    }
  ]
}